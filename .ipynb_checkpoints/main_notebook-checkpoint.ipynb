{
 "cells": [
  {
   "cell_type": "code",
   "execution_count": 1,
   "metadata": {},
   "outputs": [],
   "source": [
    "%load_ext autoreload\n",
    "%autoreload 2\n",
    "from sensitivity_analysis_2_0 import sensitivity_analysis\n",
    "from TOPSIS_main_data_processing import main_data_processing\n",
    "from plotting_results_function import results_visualization\n",
    "from gathering_data_function import gathering_data\n",
    "from saving_results_function import directory_creation, save_run_results, save_sensitivity_results"
   ]
  },
  {
   "cell_type": "markdown",
   "metadata": {},
   "source": [
    "The following code snippet run a function that gathers all the necessary data to run the simulation.\n",
    "\n",
    "1. Loads the Excel or CSV file into a dataframe.\n",
    "2. User defines the beneficial or non-beneficial nature of all criteria.\n",
    "3. User assigns a weight (1-10) for each criterion.\n",
    "4. Normalizes the weights.\n",
    "\n",
    "Argument:\n",
    "    file_path (str) : path of the Excel or CSV file.\n",
    "\n",
    "Returns:\n",
    "    decision_matrix (dataframe) : data array containing all the alternatives and their evaluations for each criterion.\n",
    "    data_filename (str) : name of the file.\n",
    "    weights (dict) : "
   ]
  },
  {
   "cell_type": "code",
   "execution_count": 3,
   "metadata": {},
   "outputs": [
    {
     "name": "stdout",
     "output_type": "stream",
     "text": [
      "             Criterion_1  Criterion_2  Criterion_3  Criterion_4\n",
      "Alternative                                                    \n",
      "Option_A             7.5          8.2          6.9          7.3\n",
      "Option_B             7.2          8.5          7.1          7.4\n",
      "Option_C             7.4          8.3          7.0          7.2\n",
      "Option_D             7.3          8.4          7.2          7.1\n",
      "Option_E             7.6          8.1          6.8          7.5\n"
     ]
    }
   ],
   "source": [
    "decision_matrix, data_filename, weights, normalized_weights, beneficial_criteria, non_beneficial_criteria = gathering_data(\n",
    "    'C:/Users/Virgi/OneDrive/Bureau/MODM_tool_project/TOPSIS/data_input/mock4_data.csv')"
   ]
  },
  {
   "cell_type": "markdown",
   "metadata": {},
   "source": [
    "The following code snippet asks the user if he wants to save the results of the run and creates a new directory in the folder 'results' is the answer is 'yes'."
   ]
  },
  {
   "cell_type": "code",
   "execution_count": 5,
   "metadata": {},
   "outputs": [],
   "source": [
    "user_input = input(\n",
    "    \"Do you want to save the results of this run? (yes/no): \").strip().lower()\n",
    "directory = None\n",
    "if user_input == 'yes':\n",
    "    directory = directory_creation(data_filename)"
   ]
  },
  {
   "cell_type": "markdown",
   "metadata": {},
   "source": [
    "The following code snippet processes the main calculations of the TOPSIS method."
   ]
  },
  {
   "cell_type": "code",
   "execution_count": 6,
   "metadata": {},
   "outputs": [],
   "source": [
    "ranked_alternatives, ranks, weighted_normalized_matrix, S = main_data_processing(\n",
    "    decision_matrix, normalized_weights, beneficial_criteria)"
   ]
  },
  {
   "cell_type": "markdown",
   "metadata": {},
   "source": [
    "The following code snippet plots the results of the run"
   ]
  },
  {
   "cell_type": "code",
   "execution_count": null,
   "metadata": {},
   "outputs": [],
   "source": [
    "results_visualization(\n",
    "    ranked_alternatives,\n",
    "    weighted_normalized_matrix,\n",
    "    beneficial_criteria,\n",
    "    weights,\n",
    "    normalized_weights,\n",
    "    S,\n",
    "    user_input,\n",
    "    directory,\n",
    "    decision_matrix)"
   ]
  },
  {
   "cell_type": "markdown",
   "metadata": {},
   "source": [
    "The following code snippet asks the user if he wants to run a sensitivity analysis and runs it if the answer is 'yes'."
   ]
  },
  {
   "cell_type": "code",
   "execution_count": null,
   "metadata": {},
   "outputs": [],
   "source": [
    "user_input2 = input(\n",
    "    \"Do you want to run a sensitivity analysis? (yes/no): \").strip().lower()\n",
    "if user_input2 == 'yes':\n",
    "    uncertainties, scores_df, ranks_df, reliability_percentage, initial_best_solution = sensitivity_analysis(\n",
    "        main_data_processing, weights, 10000, 100, 0, 10, decision_matrix, beneficial_criteria, S, user_input, directory)"
   ]
  },
  {
   "cell_type": "markdown",
   "metadata": {},
   "source": [
    "The following code snippet saves the results"
   ]
  },
  {
   "cell_type": "code",
   "execution_count": 13,
   "metadata": {},
   "outputs": [],
   "source": [
    "if user_input == 'yes':\n",
    "    save_run_results(\n",
    "        directory,\n",
    "        decision_matrix,\n",
    "        weighted_normalized_matrix,\n",
    "        ranked_alternatives,\n",
    "        weights,\n",
    "        beneficial_criteria,\n",
    "        non_beneficial_criteria,\n",
    "    )\n",
    "    \n",
    "if user_input2 == 'yes' and user_input == 'yes':\n",
    "    save_sensitivity_results(\n",
    "        directory,\n",
    "        uncertainties,\n",
    "        scores_df,\n",
    "        ranks_df,\n",
    "        reliability_percentage,\n",
    "        initial_best_solution)"
   ]
  }
 ],
 "metadata": {
  "kernelspec": {
   "display_name": "virtual_env",
   "language": "python",
   "name": "python3"
  },
  "language_info": {
   "codemirror_mode": {
    "name": "ipython",
    "version": 3
   },
   "file_extension": ".py",
   "mimetype": "text/x-python",
   "name": "python",
   "nbconvert_exporter": "python",
   "pygments_lexer": "ipython3",
   "version": "3.11.6"
  }
 },
 "nbformat": 4,
 "nbformat_minor": 2
}
