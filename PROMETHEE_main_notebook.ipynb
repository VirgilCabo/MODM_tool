{
 "cells": [
  {
   "cell_type": "code",
   "execution_count": 1,
   "metadata": {},
   "outputs": [],
   "source": [
    "%load_ext autoreload\n",
    "%autoreload 2\n",
    "import pandas as pd\n",
    "import math\n",
    "import ipywidgets\n",
    "import numpy as np\n",
    "import matplotlib.pyplot as plt\n",
    "from gathering_data_function import gathering_data"
   ]
  },
  {
   "cell_type": "code",
   "execution_count": 2,
   "metadata": {},
   "outputs": [
    {
     "name": "stdout",
     "output_type": "stream",
     "text": [
      "              Price ($)  Storage (GB)  Camera (MP)  Looks (1-5)\n",
      "Alternative                                                    \n",
      "Phone 1             250            16           12            5\n",
      "Phone 2             200            16            8            3\n",
      "Phone 3             300            32           16            4\n",
      "Phone 4             275            32            8            4\n",
      "Phone 5             225            16           16            2\n"
     ]
    }
   ],
   "source": [
    "decision_matrix, data_filename, weights, normalized_weights, beneficial_criteria, non_beneficial_criteria = gathering_data(\n",
    "    'C:/Users/Virgi/OneDrive/Bureau/MODM_tool_project/TOPSIS/data_input/mock_data.csv')"
   ]
  },
  {
   "cell_type": "markdown",
   "metadata": {},
   "source": [
    "## **Min-Max Normalization**\n",
    "### *Beneficial Criteria*\n",
    "For each beneficial criterion:\n",
    "\n",
    "\n",
    "$\n",
    "x^{normalized}_{i, j}=\\frac{x_{i, j}-min(x_j)}{max(x_j)-min(x_j)}\n",
    "$\n",
    "### *Non-Beneficial Criteria*\n",
    "For each non-beneficial criterion:\n",
    "\n",
    "\n",
    "$\n",
    "x^{normalized}_{i, j}=\\frac{max(x_j)-x_{i, j}}{max(x_j)-min(x_j)}\n",
    "$"
   ]
  },
  {
   "cell_type": "code",
   "execution_count": 3,
   "metadata": {},
   "outputs": [
    {
     "name": "stdout",
     "output_type": "stream",
     "text": [
      "              Price ($)  Storage (GB)  Camera (MP)  Looks (1-5)\n",
      "Alternative                                                    \n",
      "Phone 1            0.50           0.0          0.5     1.000000\n",
      "Phone 2            1.00           0.0          0.0     0.333333\n",
      "Phone 3            0.00           1.0          1.0     0.666667\n",
      "Phone 4            0.25           1.0          0.0     0.666667\n",
      "Phone 5            0.75           0.0          1.0     0.000000\n"
     ]
    }
   ],
   "source": [
    "def min_max_normalization(decision_matrix, beneficial_criteria):\n",
    "    \"\"\"\n",
    "    Normalize the decision matrix using min-max normalization.\n",
    "    \n",
    "    Parameters:\n",
    "    - decision_matrix: DataFrame containing the raw scores for each alternative and criterion.\n",
    "    \n",
    "    Returns:\n",
    "    - normalized_matrix: DataFrame containing the normalized scores.\n",
    "    \"\"\"\n",
    "    normalized_matrix = (decision_matrix - decision_matrix.min()) / (decision_matrix.max() - decision_matrix.min())\n",
    "    for criterion in decision_matrix.columns:\n",
    "        if criterion not in beneficial_criteria:\n",
    "            normalized_matrix[criterion] = 1 - normalized_matrix[criterion]\n",
    "    return normalized_matrix\n",
    "\n",
    "normalized_matrix = min_max_normalization(decision_matrix, beneficial_criteria)\n",
    "print(normalized_matrix)"
   ]
  },
  {
   "cell_type": "markdown",
   "metadata": {},
   "source": [
    "## **Preference Functions**\n",
    "### *Usual Preference Function:*  \n",
    "$\n",
    "P(d) = \n",
    "\\begin{cases} \n",
    "0 & \\text{if } d \\leq 0 \\\\\n",
    "1 & \\text{if } d > 0 \n",
    "\\end{cases}\n",
    "$\n",
    "### *Linear Preference Function:*\n",
    "$\n",
    "P(d) = \n",
    "\\begin{cases} \n",
    "0 & \\text{if } d \\leq q \\\\\n",
    "\\frac{d - q}{p - q} & \\text{if } q < d \\leq p \\\\\n",
    "1 & \\text{if } d > p \n",
    "\\end{cases}\n",
    "$\n",
    "### *Gaussian Preference Function:*\n",
    "$\n",
    "P(d) = 1 - e^{-\\frac{d^2}{2s^2}}\n",
    "$\n"
   ]
  },
  {
   "cell_type": "code",
   "execution_count": 4,
   "metadata": {},
   "outputs": [],
   "source": [
    "def usual_preference_function(d):\n",
    "    \"\"\"\n",
    "    Usual Preference Function.\n",
    "    \n",
    "    Parameters:\n",
    "    - d (float): Difference between evaluations of two alternatives for a criterion.\n",
    "    \n",
    "    Returns:\n",
    "    - float: Preference value.\n",
    "    \"\"\"\n",
    "    if d <= 0:\n",
    "        return 0\n",
    "    else:\n",
    "        return 1\n",
    "\n",
    "\n",
    "def linear_preference_function(d, q, p):\n",
    "    \"\"\"\n",
    "    Linear Preference Function.\n",
    "    \n",
    "    Parameters:\n",
    "    - d (float): Difference between evaluations of two alternatives for a criterion.\n",
    "    - q (float): Indifference threshold.\n",
    "    - p (float): Strict preference threshold.\n",
    "    \n",
    "    Returns:\n",
    "    - float: Preference value.\n",
    "    \"\"\"\n",
    "    if d <= q:\n",
    "        return 0\n",
    "    elif q < d <= p:\n",
    "        return (d - q) / (p - q)\n",
    "    else:\n",
    "        return 1\n",
    "\n",
    "\n",
    "def gaussian_preference_function(d, s):\n",
    "    \"\"\"\n",
    "    Gaussian Preference Function.\n",
    "    \n",
    "    Parameters:\n",
    "    - d (float): Difference between evaluations of two alternatives for a criterion.\n",
    "    - s (float): Standard deviation of the Gaussian function.\n",
    "    \n",
    "    Returns:\n",
    "    - float: Preference value.\n",
    "    \"\"\"\n",
    "    if d <= 0:\n",
    "        return 0\n",
    "    return 1 - math.exp(-d**2 / (2 * s**2))"
   ]
  },
  {
   "cell_type": "code",
   "execution_count": 5,
   "metadata": {},
   "outputs": [
    {
     "data": {
      "application/vnd.jupyter.widget-view+json": {
       "model_id": "51d6dec18a1e44f580dfbb66dd57ca3e",
       "version_major": 2,
       "version_minor": 0
      },
      "text/plain": [
       "interactive(children=(FloatSlider(value=0.91, description='s', max=2.0, min=0.01), Output()), _dom_classes=('w…"
      ]
     },
     "metadata": {},
     "output_type": "display_data"
    },
    {
     "data": {
      "text/plain": [
       "<function __main__.plot_gaussian_preference_function(s)>"
      ]
     },
     "execution_count": 5,
     "metadata": {},
     "output_type": "execute_result"
    }
   ],
   "source": [
    "def plot_gaussian_preference_function(s):\n",
    "    X = np.arange(0, 1, 0.01)\n",
    "    Y = 1 - np.exp(-X**2 / (2 * s**2))\n",
    "    plt.plot(X, Y)\n",
    "ipywidgets.interact(plot_gaussian_preference_function, s=(0.01, 2, 0.1))"
   ]
  },
  {
   "cell_type": "markdown",
   "metadata": {},
   "source": [
    "### **d values**\n",
    "The parameter $d$ represents the difference in the evaluation of two alternatives with respect to a specific criterion.\n",
    "\n",
    "$d(a_i, a_j) = f(a_i) - f(a_j)$\n",
    "\n",
    "Where:\n",
    "\n",
    "$a_i$ and $a_j$ are two alternatives being compared.\n",
    "\n",
    "\n",
    "$f(a_i)$ and $f(a_j)$ are the evaluations of the alternatives $a_i$ and $a_j$ respectively, for a specific criterion.\n",
    "\n"
   ]
  },
  {
   "cell_type": "code",
   "execution_count": 6,
   "metadata": {},
   "outputs": [
    {
     "name": "stdout",
     "output_type": "stream",
     "text": [
      "                      Price ($)  Storage (GB)  Camera (MP)  Looks (1-5)\n",
      "d(Phone 1, Phone 2)       -0.50           0.0          0.5     0.666667\n",
      "d(Phone 1, Phone 3)        0.50          -1.0         -0.5     0.333333\n",
      "d(Phone 1, Phone 4)        0.25          -1.0          0.5     0.333333\n",
      "d(Phone 1, Phone 5)       -0.25           0.0         -0.5     1.000000\n",
      "d(Phone 2, Phone 1)        0.50           0.0         -0.5    -0.666667\n",
      "d(Phone 2, Phone 3)        1.00          -1.0         -1.0    -0.333333\n",
      "d(Phone 2, Phone 4)        0.75          -1.0          0.0    -0.333333\n",
      "d(Phone 2, Phone 5)        0.25           0.0         -1.0     0.333333\n",
      "d(Phone 3, Phone 1)       -0.50           1.0          0.5    -0.333333\n",
      "d(Phone 3, Phone 2)       -1.00           1.0          1.0     0.333333\n",
      "d(Phone 3, Phone 4)       -0.25           0.0          1.0     0.000000\n",
      "d(Phone 3, Phone 5)       -0.75           1.0          0.0     0.666667\n",
      "d(Phone 4, Phone 1)       -0.25           1.0         -0.5    -0.333333\n",
      "d(Phone 4, Phone 2)       -0.75           1.0          0.0     0.333333\n",
      "d(Phone 4, Phone 3)        0.25           0.0         -1.0     0.000000\n",
      "d(Phone 4, Phone 5)       -0.50           1.0         -1.0     0.666667\n",
      "d(Phone 5, Phone 1)        0.25           0.0          0.5    -1.000000\n",
      "d(Phone 5, Phone 2)       -0.25           0.0          1.0    -0.333333\n",
      "d(Phone 5, Phone 3)        0.75          -1.0          0.0    -0.666667\n",
      "d(Phone 5, Phone 4)        0.50          -1.0          1.0    -0.666667\n"
     ]
    }
   ],
   "source": [
    "def compute_d_values(decision_matrix):\n",
    "    \"\"\"\n",
    "    Computes the pairwise differences for each criterion and each pair of alternatives.\n",
    "    \n",
    "    Parameters:\n",
    "    - decision_matrix: A pandas DataFrame containing the normalized decision matrix.\n",
    "    \n",
    "    Returns:\n",
    "    - A pandas DataFrame containing the pairwise differences.\n",
    "    \"\"\"\n",
    "    alternatives = decision_matrix.index\n",
    "    criteria = decision_matrix.columns\n",
    "    \n",
    "    # Create an empty dataframe to store the results\n",
    "    d_values_df = pd.DataFrame()\n",
    "    \n",
    "    # Iterate over each criterion\n",
    "    for criterion in criteria:\n",
    "        # Compute pairwise differences for the current criterion\n",
    "        for alt_i in alternatives:\n",
    "            for alt_j in alternatives:\n",
    "                if alt_i != alt_j:\n",
    "                    d_key = f\"d({alt_i}, {alt_j})\"\n",
    "                    d = decision_matrix.loc[alt_i, criterion] - decision_matrix.loc[alt_j, criterion]\n",
    "                    d_values_df.loc[d_key, criterion] = d\n",
    "                    \n",
    "    return d_values_df\n",
    "\n",
    "\n",
    "d_values_df = compute_d_values(normalized_matrix)\n",
    "print(d_values_df)"
   ]
  },
  {
   "cell_type": "markdown",
   "metadata": {},
   "source": [
    "### **Preference values**\n",
    "Given the pairwise differences $d$ and the preference functions $p(d)$, the preference value $\\pi (a_i, a_j)$ for each criterion between two alternatives $a_i$ and $a_j$ is simply the value of the preference function evaluated at $d(a_i, a_j)$."
   ]
  },
  {
   "cell_type": "code",
   "execution_count": 7,
   "metadata": {},
   "outputs": [
    {
     "name": "stdout",
     "output_type": "stream",
     "text": [
      "                         Price ($)  Storage (GB)  Camera (MP)  Looks (1-5)\n",
      "p(d(Phone 1, Phone 2))    0.000000      0.000000     0.750648     0.915342\n",
      "p(d(Phone 1, Phone 3))    0.750648      0.000000     0.000000     0.460592\n",
      "p(d(Phone 1, Phone 4))    0.293352      0.000000     0.750648     0.460592\n",
      "p(d(Phone 1, Phone 5))    0.000000      0.000000     0.000000     0.996134\n",
      "p(d(Phone 2, Phone 1))    0.750648      0.000000     0.000000     0.000000\n",
      "p(d(Phone 2, Phone 3))    0.996134      0.000000     0.000000     0.000000\n",
      "p(d(Phone 2, Phone 4))    0.956063      0.000000     0.000000     0.000000\n",
      "p(d(Phone 2, Phone 5))    0.293352      0.000000     0.000000     0.460592\n",
      "p(d(Phone 3, Phone 1))    0.000000      0.996134     0.750648     0.000000\n",
      "p(d(Phone 3, Phone 2))    0.000000      0.996134     0.996134     0.460592\n",
      "p(d(Phone 3, Phone 4))    0.000000      0.000000     0.996134     0.000000\n",
      "p(d(Phone 3, Phone 5))    0.000000      0.996134     0.000000     0.915342\n",
      "p(d(Phone 4, Phone 1))    0.000000      0.996134     0.000000     0.000000\n",
      "p(d(Phone 4, Phone 2))    0.000000      0.996134     0.000000     0.460592\n",
      "p(d(Phone 4, Phone 3))    0.293352      0.000000     0.000000     0.000000\n",
      "p(d(Phone 4, Phone 5))    0.000000      0.996134     0.000000     0.915342\n",
      "p(d(Phone 5, Phone 1))    0.293352      0.000000     0.750648     0.000000\n",
      "p(d(Phone 5, Phone 2))    0.000000      0.000000     0.996134     0.000000\n",
      "p(d(Phone 5, Phone 3))    0.956063      0.000000     0.000000     0.000000\n",
      "p(d(Phone 5, Phone 4))    0.750648      0.000000     0.996134     0.000000\n"
     ]
    }
   ],
   "source": [
    "def compute_preference_values(d_values_df, preference_functions):\n",
    "    \"\"\"\n",
    "    Compute the preference values for each criterion and each pair of alternatives.\n",
    "    \n",
    "    Parameters:\n",
    "    - differences_df: DataFrame containing the pairwise differences.\n",
    "    - preference_functions: Dictionary mapping criteria to their corresponding preference functions.\n",
    "    \n",
    "    Returns:\n",
    "    - DataFrame containing the preference values.\n",
    "    \"\"\"\n",
    "    preference_values_df = d_values_df.copy()\n",
    "    preference_values_df.index = ['p(' + str(idx) + ')'for idx in preference_values_df.index]\n",
    "\n",
    "\n",
    "    for criterion, pref_func in preference_functions.items():\n",
    "        preference_values_df[criterion] = preference_values_df[criterion].apply(pref_func)\n",
    "    \n",
    "    return preference_values_df\n",
    "\n",
    "\n",
    "def define_preference_functions(decision_matrix):\n",
    "    preference_functions = {}\n",
    "    for criterion in decision_matrix.columns:\n",
    "        response = input(f\"What preference function do you want to use for {criterion}?\\nEnter 'u' for usual preference function.\\nEnter 'l' for linear preference function.\\nEnter 'g' for gaussian preference function.\\n\").lower()\n",
    "        while response not in ['u', 'l', 'g']:\n",
    "            print(\n",
    "                \"Invalid input. Please enter 'u', 'l' or 'g'.\")\n",
    "            response = input(\n",
    "                f\"What preference function do you want to use for {criterion}? \").lower()\n",
    "        if response == 'u':\n",
    "            preference_functions[criterion] = lambda d: usual_preference_function(d)   \n",
    "        elif response == 'l':\n",
    "            preference_functions[criterion] = lambda d: linear_preference_function(d, q=0.2, p=0.8) \n",
    "        else:\n",
    "            preference_functions[criterion] = lambda d: gaussian_preference_function(d, s=0.3)\n",
    "    return preference_functions\n",
    "\n",
    "\n",
    "preference_functions = define_preference_functions(decision_matrix)\n",
    "preference_values_df = compute_preference_values(d_values_df, preference_functions)\n",
    "print(preference_values_df)"
   ]
  },
  {
   "cell_type": "markdown",
   "metadata": {},
   "source": [
    "## **Net Outranking Flows computation and ranking**\n",
    "### **Global Preference $P(a, b)$:**\n",
    "$P(a, b) = \\sum_{j} w_j \\times p_j(a, b)$\n",
    "\n",
    "Where $w_j$ is the weight of criterion $j$, and $p_j(a, b)$ is the preference of alternative $a$ over alternative $b$ for criterion $j$.\n",
    "### **Positive Outranking Flow $\\Phi^+$:**\n",
    "$\\Phi^+(a) = \\frac{1}{n-1} \\sum_{b \\neq a} P(a, b)$\n",
    "\n",
    "Where $P(a,b)$ is the global preference of alternative $a$ over alternative $b$, and $n$ is the number of alternatives.\n",
    "### **Negative Outranking Flow $\\Phi^-$:**\n",
    "$\\Phi^-(a) = \\frac{1}{n-1} \\sum_{b \\neq a} P(b, a)$\n",
    "\n",
    "Where $P(b,a)$ is the global preference of alternative $b$ over alternative $a$, and $n$ is the number of alternatives.\n",
    "### **Net Outranking Flow $\\Phi(a)$:**\n",
    "$\\Phi(a) = \\Phi^+(a) - \\Phi^-(a)$\n",
    "\n",
    "The alternatives are then ranked based on their net outranking flows.\n",
    "\n",
    "\n"
   ]
  },
  {
   "cell_type": "code",
   "execution_count": 22,
   "metadata": {},
   "outputs": [
    {
     "name": "stdout",
     "output_type": "stream",
     "text": [
      "P(Phone 1, Phone 2)    0.241664\n",
      "P(Phone 1, Phone 3)    0.346318\n",
      "P(Phone 1, Phone 4)    0.313529\n",
      "P(Phone 1, Phone 5)    0.099613\n",
      "P(Phone 2, Phone 1)    0.300259\n",
      "P(Phone 2, Phone 3)    0.398454\n",
      "P(Phone 2, Phone 4)    0.382425\n",
      "P(Phone 2, Phone 5)    0.163400\n",
      "P(Phone 3, Phone 1)    0.448970\n",
      "P(Phone 3, Phone 2)    0.544126\n",
      "P(Phone 3, Phone 4)    0.199227\n",
      "P(Phone 3, Phone 5)    0.390374\n",
      "P(Phone 4, Phone 1)    0.298840\n",
      "P(Phone 4, Phone 2)    0.344899\n",
      "P(Phone 4, Phone 3)    0.117341\n",
      "P(Phone 4, Phone 5)    0.390374\n",
      "P(Phone 5, Phone 1)    0.267470\n",
      "P(Phone 5, Phone 2)    0.199227\n",
      "P(Phone 5, Phone 3)    0.382425\n",
      "P(Phone 5, Phone 4)    0.499486\n",
      "dtype: float64\n"
     ]
    }
   ],
   "source": [
    "def compute_global_preference_values(preference_values_df, normalized_weights, decision_matrix):\n",
    "    \"\"\"\n",
    "    Compute the global preference values for pairs of alternatives.\n",
    "\n",
    "    Parameters:\n",
    "    - preference_matrix: DataFrame containing preference values for each criterion.\n",
    "    - weights: Dictionary containing weights for each criterion.\n",
    "\n",
    "    Returns:\n",
    "    - DataFrame containing global preference values for pairs of alternatives.\n",
    "    \"\"\"\n",
    "    # Multiply the preference matrix by the weights\n",
    "    weighted_preference_values_df = preference_values_df.multiply(normalized_weights)\n",
    "    \n",
    "    # Sum across the criteria to get the global preference values\n",
    "    global_preference_values_serie = weighted_preference_values_df.sum(axis=1)\n",
    "\n",
    "    # Modify the label names\n",
    "    alternatives = decision_matrix.index\n",
    "    index_keys = []\n",
    "    for alt_i in alternatives:\n",
    "            for alt_j in alternatives:\n",
    "                if alt_i != alt_j:\n",
    "                    index_key = f\"P({alt_i}, {alt_j})\"\n",
    "                    index_keys.append(index_key)\n",
    "    global_preference_values_serie.index = [idx for idx in index_keys]\n",
    "\n",
    "    return global_preference_values_serie\n",
    "global_preference_values_serie = compute_global_preference_values(preference_values_df, normalized_weights, decision_matrix)\n",
    "print(global_preference_values_serie)"
   ]
  },
  {
   "cell_type": "code",
   "execution_count": 31,
   "metadata": {},
   "outputs": [
    {
     "name": "stdout",
     "output_type": "stream",
     "text": [
      "Alternative   Phone 1   Phone 2   Phone 3   Phone 4   Phone 5\n",
      "Alternative                                                  \n",
      "Phone 1      0.000000  0.241664  0.346318  0.313529  0.099613\n",
      "Phone 2      0.300259  0.000000  0.398454  0.382425  0.163400\n",
      "Phone 3      0.448970  0.544126  0.000000  0.199227  0.390374\n",
      "Phone 4      0.298840  0.344899  0.117341  0.000000  0.390374\n",
      "Phone 5      0.267470  0.199227  0.382425  0.499486  0.000000\n"
     ]
    }
   ],
   "source": [
    "def series_to_matrix(global_preference_values_serie, decision_matrix):\n",
    "    alternatives = decision_matrix.index\n",
    "    matrix_df = pd.DataFrame(0.0, index=alternatives, columns=alternatives)\n",
    "\n",
    "    for alt_i in alternatives:\n",
    "        for alt_j in alternatives:\n",
    "            if alt_i != alt_j:\n",
    "                key = f\"P({alt_i}, {alt_j})\"\n",
    "                value = global_preference_values_serie.get(key, None)\n",
    "                if value is not None:\n",
    "                    matrix_df.at[alt_i, alt_j] = value\n",
    "                else:\n",
    "                    print(f\"Key not found: {key}\")\n",
    "    return matrix_df\n",
    "matrix_df = series_to_matrix(global_preference_values_serie, decision_matrix)\n",
    "print(matrix_df)"
   ]
  },
  {
   "cell_type": "code",
   "execution_count": 34,
   "metadata": {},
   "outputs": [
    {
     "name": "stdout",
     "output_type": "stream",
     "text": [
      "Alternative\n",
      "Phone 1   -0.078604\n",
      "Phone 2   -0.021345\n",
      "Phone 3    0.084540\n",
      "Phone 4   -0.060803\n",
      "Phone 5    0.076212\n",
      "dtype: float64\n"
     ]
    }
   ],
   "source": [
    "def calculate_flows(matrix_df):\n",
    "    \"\"\"\n",
    "    Calculate the positive, negative, and net outranking flows.\n",
    "\n",
    "    Parameters:\n",
    "    - global_preference_matrix: DataFrame containing global preference values.\n",
    "    - n: The number of alternatives.\n",
    "\n",
    "    Returns:\n",
    "    - Tuple of DataFrames for positive, negative, and net flows.\n",
    "    \"\"\"\n",
    "    n = len(matrix_df)\n",
    "    # Calculate positive flows\n",
    "    positive_flows = matrix_df.sum(axis=1) / (n - 1)\n",
    "    \n",
    "    # Calculate negative flows\n",
    "    negative_flows = matrix_df.sum(axis=0) / (n - 1)\n",
    "    \n",
    "    # Calculate net flows\n",
    "    net_flows = positive_flows - negative_flows\n",
    "    \n",
    "    return positive_flows, negative_flows, net_flows\n",
    "positive_flows, negative_flows, net_flows = calculate_flows(matrix_df)\n",
    "print(net_flows)"
   ]
  }
 ],
 "metadata": {
  "kernelspec": {
   "display_name": "virtual_env",
   "language": "python",
   "name": "python3"
  },
  "language_info": {
   "codemirror_mode": {
    "name": "ipython",
    "version": 3
   },
   "file_extension": ".py",
   "mimetype": "text/x-python",
   "name": "python",
   "nbconvert_exporter": "python",
   "pygments_lexer": "ipython3",
   "version": "3.11.6"
  }
 },
 "nbformat": 4,
 "nbformat_minor": 2
}
