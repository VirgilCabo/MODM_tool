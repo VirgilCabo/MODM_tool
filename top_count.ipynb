{
 "cells": [
  {
   "cell_type": "code",
   "execution_count": 32,
   "metadata": {},
   "outputs": [
    {
     "name": "stdout",
     "output_type": "stream",
     "text": [
      "{'Unnamed: 0': 0.01, '1': 0.34, '2': 2.73, '3': 17.92, '4': 36.34, '5': 0.06, '6': 0.0, '7': 0.0, '8': 0.0, '9': 0.0, '10': 0.0, '11': 0.0, '12': 0.02, '13': 0.07, '14': 0.55, '15': 0.01, '16': 41.96}\n"
     ]
    }
   ],
   "source": [
    "import pandas as pd\n",
    "path = 'C://Users//Virgi//OneDrive//Bureau//MODM_tool_project//Tool//Data//results//PROMETHEE//PROMETHEE_main_optimal_pareto_points2.csv_20231122_163259//sensitivity_ranks.csv'\n",
    "alternative = '3'\n",
    "df = pd.read_csv(path)\n",
    "num_sets = len(df[alternative])\n",
    "top_ranked_percentage = {}\n",
    "for column in df.columns:\n",
    "    counts = df[column].value_counts().get(1.0, 0)\n",
    "    percentage = round((counts/num_sets)*100, 2)\n",
    "    top_ranked_percentage[column] = percentage\n",
    "print(top_ranked_percentage)"
   ]
  }
 ],
 "metadata": {
  "kernelspec": {
   "display_name": "virtual_env",
   "language": "python",
   "name": "python3"
  },
  "language_info": {
   "codemirror_mode": {
    "name": "ipython",
    "version": 3
   },
   "file_extension": ".py",
   "mimetype": "text/x-python",
   "name": "python",
   "nbconvert_exporter": "python",
   "pygments_lexer": "ipython3",
   "version": "3.11.6"
  }
 },
 "nbformat": 4,
 "nbformat_minor": 2
}
