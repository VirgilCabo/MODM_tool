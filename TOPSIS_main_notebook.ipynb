{
 "cells": [
  {
   "cell_type": "code",
   "execution_count": 1,
   "metadata": {},
   "outputs": [],
   "source": [
    "%load_ext autoreload\n",
    "%autoreload 2\n",
    "from MODM_Tool_Modules.TOPSIS_Modules import sensitivity_analysis_TOPSIS as sens\n",
    "from MODM_Tool_Modules import gathering_data_function as gt\n",
    "from MODM_Tool_Modules.TOPSIS_Modules import TOPSIS_main_data_processing as tp_process\n",
    "from MODM_Tool_Modules.TOPSIS_Modules import TOPSIS_plotting_results_function as tp_plot\n",
    "from MODM_Tool_Modules.TOPSIS_Modules import TOPSIS_saving_results_function as tp_save"
   ]
  },
  {
   "cell_type": "markdown",
   "metadata": {},
   "source": [
    "The following code snippet run a function that gathers all the necessary data to run the simulation.\n",
    "\n",
    "1. Loads the Excel or CSV file into a dataframe.\n",
    "2. User defines the beneficial or non-beneficial nature of all criteria.\n",
    "3. User assigns a weight (1-10) for each criterion.\n",
    "4. Normalizes the weights.\n",
    "\n",
    "Argument:\n",
    "    file_path (str) : path of the Excel or CSV file.\n",
    "\n",
    "Returns:\n",
    "    decision_matrix (dataframe) : data array containing all the alternatives and their evaluations for each criterion.\n",
    "    data_filename (str) : name of the file.\n",
    "    weights (dict) : "
   ]
  },
  {
   "cell_type": "code",
   "execution_count": 2,
   "metadata": {},
   "outputs": [
    {
     "name": "stdout",
     "output_type": "stream",
     "text": [
      "       Profit (€/h)  Impact on Ecosystems (species·yr/h) · 10^4  \\\n",
      "Point                                                             \n",
      "1            566.37                                       5.532   \n",
      "2           2701.83                                       5.576   \n",
      "3           4223.16                                       5.625   \n",
      "4           5381.57                                       5.674   \n",
      "5           6091.79                                       5.720   \n",
      "6           6221.99                                       5.766   \n",
      "7           6271.55                                       5.814   \n",
      "8           6272.59                                       5.862   \n",
      "9           6273.62                                       5.910   \n",
      "10          6274.65                                       5.958   \n",
      "11          5843.28                                       5.890   \n",
      "12          5324.84                                       5.853   \n",
      "13          4575.07                                       5.811   \n",
      "14          3815.92                                       5.785   \n",
      "15          3002.12                                       5.759   \n",
      "16          2227.80                                       5.734   \n",
      "\n",
      "       Impact on Resources (USD2013/h) · 10^-4  \n",
      "Point                                           \n",
      "1                                        4.082  \n",
      "2                                        4.094  \n",
      "3                                        4.124  \n",
      "4                                        4.156  \n",
      "5                                        4.192  \n",
      "6                                        4.214  \n",
      "7                                        4.220  \n",
      "8                                        4.213  \n",
      "9                                        4.205  \n",
      "10                                       4.198  \n",
      "11                                       4.151  \n",
      "12                                       4.103  \n",
      "13                                       4.056  \n",
      "14                                       4.008  \n",
      "15                                       3.961  \n",
      "16                                       3.914  \n",
      "       Profit (€/h)  Impact on Ecosystems (species·yr/h) · 10^4  \\\n",
      "Point                                                             \n",
      "1          0.000000                                    1.000000   \n",
      "2          0.374099                                    0.896714   \n",
      "3          0.640612                                    0.781690   \n",
      "4          0.843547                                    0.666667   \n",
      "5          0.967966                                    0.558685   \n",
      "6          0.990775                                    0.450704   \n",
      "7          0.999457                                    0.338028   \n",
      "8          0.999639                                    0.225352   \n",
      "9          0.999820                                    0.112676   \n",
      "10         1.000000                                    0.000000   \n",
      "11         0.924431                                    0.159624   \n",
      "12         0.833608                                    0.246479   \n",
      "13         0.702261                                    0.345070   \n",
      "14         0.569270                                    0.406103   \n",
      "15         0.426705                                    0.467136   \n",
      "16         0.291056                                    0.525822   \n",
      "\n",
      "       Impact on Resources (USD2013/h) · 10^-4  \n",
      "Point                                           \n",
      "1                                     0.450980  \n",
      "2                                     0.411765  \n",
      "3                                     0.313725  \n",
      "4                                     0.209150  \n",
      "5                                     0.091503  \n",
      "6                                     0.019608  \n",
      "7                                     0.000000  \n",
      "8                                     0.022876  \n",
      "9                                     0.049020  \n",
      "10                                    0.071895  \n",
      "11                                    0.225490  \n",
      "12                                    0.382353  \n",
      "13                                    0.535948  \n",
      "14                                    0.692810  \n",
      "15                                    0.846405  \n",
      "16                                    1.000000  \n"
     ]
    }
   ],
   "source": [
    "decision_matrix, normalized_matrix, data_filename, weights, normalized_weights, beneficial_criteria, non_beneficial_criteria = gt.gathering_data(\n",
    "    'C:/Users/Virgi/OneDrive/Bureau/MODM_tool_project/Tool/Data/data_input/optimal_pareto_points2.csv')"
   ]
  },
  {
   "cell_type": "markdown",
   "metadata": {},
   "source": [
    "The following code snippet asks the user if he wants to save the results of the run and creates a new directory in the folder 'results' is the answer is 'yes'."
   ]
  },
  {
   "cell_type": "code",
   "execution_count": 3,
   "metadata": {},
   "outputs": [],
   "source": [
    "user_input = input(\n",
    "    \"Do you want to save the results of this run? (yes/no): \").strip().lower()\n",
    "directory = None\n",
    "if user_input == 'yes':\n",
    "    directory = tp_save.directory_creation(data_filename)"
   ]
  },
  {
   "cell_type": "markdown",
   "metadata": {},
   "source": [
    "The following code snippet processes the main calculations of the TOPSIS method."
   ]
  },
  {
   "cell_type": "code",
   "execution_count": 4,
   "metadata": {},
   "outputs": [],
   "source": [
    "ranked_alternatives, ranks, weighted_normalized_matrix, S, ideal_best, ideal_worst = tp_process.TOPSIS_main_data_processing(\n",
    "    normalized_weights, normalized_matrix)"
   ]
  },
  {
   "cell_type": "markdown",
   "metadata": {},
   "source": [
    "The following code snippet plots the results of the run"
   ]
  },
  {
   "cell_type": "code",
   "execution_count": 5,
   "metadata": {},
   "outputs": [
    {
     "data": {
      "application/vnd.plotly.v1+json": {
       "config": {
        "plotlyServerURL": "https://plot.ly"
       },
       "data": [
        {
         "hoverinfo": "text",
         "marker": {
          "color": "blue",
          "size": 5
         },
         "mode": "markers+text",
         "name": "Pareto Points",
         "text": [
          1,
          2,
          3,
          4,
          5,
          6,
          7,
          8,
          9,
          10,
          11,
          12,
          13,
          14,
          15,
          16
         ],
         "type": "scatter3d",
         "x": [
          0.150326797385621,
          0.13725490196078388,
          0.10457516339869302,
          0.0697167755991287,
          0.03050108932461833,
          0.006535947712417574,
          0,
          0.007625272331154323,
          0.016339869281045433,
          0.02396514161219976,
          0.07516339869281048,
          0.127450980392157,
          0.17864923747276676,
          0.23093681917211328,
          0.28213507625272355,
          0.3333333333333333
         ],
         "y": [
          0.3333333333333333,
          0.2989045383411584,
          0.2605633802816902,
          0.222222222222222,
          0.18622848200313014,
          0.15023474178403765,
          0.11267605633802824,
          0.07511737089201882,
          0.03755868544600941,
          0,
          0.05320813771518033,
          0.08215962441314584,
          0.11502347417840389,
          0.1353677621283255,
          0.15571205007824707,
          0.17527386541471057
         ],
         "z": [
          0,
          0.12469955923675782,
          0.2135371775736299,
          0.2811821891474606,
          0.32265527736317534,
          0.33025826810644654,
          0.33315230974420784,
          0.33321304023862414,
          0.3332731867859787,
          0.3333333333333333,
          0.30814360893298853,
          0.27786945746646396,
          0.23408685862174478,
          0.1897565174331556,
          0.14223490555240223,
          0.09701871667122147
         ]
        },
        {
         "marker": {
          "color": "red",
          "size": 5
         },
         "mode": "markers",
         "name": "Nadir Point",
         "type": "scatter3d",
         "x": [
          0
         ],
         "y": [
          0
         ],
         "z": [
          0
         ]
        },
        {
         "marker": {
          "color": "green",
          "size": 5
         },
         "mode": "markers",
         "name": "Utopian Point",
         "type": "scatter3d",
         "x": [
          0.3333333333333333
         ],
         "y": [
          0.3333333333333333
         ],
         "z": [
          0.3333333333333333
         ]
        },
        {
         "line": {
          "color": "red",
          "dash": "dashdot",
          "width": 2
         },
         "mode": "lines",
         "showlegend": false,
         "type": "scatter3d",
         "x": [
          0.150326797385621,
          0
         ],
         "y": [
          0.3333333333333333,
          0
         ],
         "z": [
          0,
          0
         ]
        },
        {
         "line": {
          "color": "red",
          "dash": "dashdot",
          "width": 2
         },
         "mode": "lines",
         "showlegend": false,
         "type": "scatter3d",
         "x": [
          0.13725490196078388,
          0
         ],
         "y": [
          0.2989045383411584,
          0
         ],
         "z": [
          0.12469955923675782,
          0
         ]
        },
        {
         "line": {
          "color": "red",
          "dash": "dashdot",
          "width": 2
         },
         "mode": "lines",
         "showlegend": false,
         "type": "scatter3d",
         "x": [
          0.10457516339869302,
          0
         ],
         "y": [
          0.2605633802816902,
          0
         ],
         "z": [
          0.2135371775736299,
          0
         ]
        },
        {
         "line": {
          "color": "red",
          "dash": "dashdot",
          "width": 2
         },
         "mode": "lines",
         "showlegend": false,
         "type": "scatter3d",
         "x": [
          0.0697167755991287,
          0
         ],
         "y": [
          0.222222222222222,
          0
         ],
         "z": [
          0.2811821891474606,
          0
         ]
        },
        {
         "line": {
          "color": "red",
          "dash": "dashdot",
          "width": 2
         },
         "mode": "lines",
         "showlegend": false,
         "type": "scatter3d",
         "x": [
          0.03050108932461833,
          0
         ],
         "y": [
          0.18622848200313014,
          0
         ],
         "z": [
          0.32265527736317534,
          0
         ]
        },
        {
         "line": {
          "color": "red",
          "dash": "dashdot",
          "width": 2
         },
         "mode": "lines",
         "showlegend": false,
         "type": "scatter3d",
         "x": [
          0.006535947712417574,
          0
         ],
         "y": [
          0.15023474178403765,
          0
         ],
         "z": [
          0.33025826810644654,
          0
         ]
        },
        {
         "line": {
          "color": "red",
          "dash": "dashdot",
          "width": 2
         },
         "mode": "lines",
         "showlegend": false,
         "type": "scatter3d",
         "x": [
          0,
          0
         ],
         "y": [
          0.11267605633802824,
          0
         ],
         "z": [
          0.33315230974420784,
          0
         ]
        },
        {
         "line": {
          "color": "red",
          "dash": "dashdot",
          "width": 2
         },
         "mode": "lines",
         "showlegend": false,
         "type": "scatter3d",
         "x": [
          0.007625272331154323,
          0
         ],
         "y": [
          0.07511737089201882,
          0
         ],
         "z": [
          0.33321304023862414,
          0
         ]
        },
        {
         "line": {
          "color": "red",
          "dash": "dashdot",
          "width": 2
         },
         "mode": "lines",
         "showlegend": false,
         "type": "scatter3d",
         "x": [
          0.016339869281045433,
          0
         ],
         "y": [
          0.03755868544600941,
          0
         ],
         "z": [
          0.3332731867859787,
          0
         ]
        },
        {
         "line": {
          "color": "red",
          "dash": "dashdot",
          "width": 2
         },
         "mode": "lines",
         "showlegend": false,
         "type": "scatter3d",
         "x": [
          0.02396514161219976,
          0
         ],
         "y": [
          0,
          0
         ],
         "z": [
          0.3333333333333333,
          0
         ]
        },
        {
         "line": {
          "color": "red",
          "dash": "dashdot",
          "width": 2
         },
         "mode": "lines",
         "showlegend": false,
         "type": "scatter3d",
         "x": [
          0.07516339869281048,
          0
         ],
         "y": [
          0.05320813771518033,
          0
         ],
         "z": [
          0.30814360893298853,
          0
         ]
        },
        {
         "line": {
          "color": "red",
          "dash": "dashdot",
          "width": 2
         },
         "mode": "lines",
         "showlegend": false,
         "type": "scatter3d",
         "x": [
          0.127450980392157,
          0
         ],
         "y": [
          0.08215962441314584,
          0
         ],
         "z": [
          0.27786945746646396,
          0
         ]
        },
        {
         "line": {
          "color": "red",
          "dash": "dashdot",
          "width": 2
         },
         "mode": "lines",
         "showlegend": false,
         "type": "scatter3d",
         "x": [
          0.17864923747276676,
          0
         ],
         "y": [
          0.11502347417840389,
          0
         ],
         "z": [
          0.23408685862174478,
          0
         ]
        },
        {
         "line": {
          "color": "red",
          "dash": "dashdot",
          "width": 2
         },
         "mode": "lines",
         "showlegend": false,
         "type": "scatter3d",
         "x": [
          0.23093681917211328,
          0
         ],
         "y": [
          0.1353677621283255,
          0
         ],
         "z": [
          0.1897565174331556,
          0
         ]
        },
        {
         "line": {
          "color": "red",
          "dash": "dashdot",
          "width": 2
         },
         "mode": "lines",
         "showlegend": false,
         "type": "scatter3d",
         "x": [
          0.28213507625272355,
          0
         ],
         "y": [
          0.15571205007824707,
          0
         ],
         "z": [
          0.14223490555240223,
          0
         ]
        },
        {
         "line": {
          "color": "red",
          "dash": "dashdot",
          "width": 2
         },
         "mode": "lines",
         "showlegend": false,
         "type": "scatter3d",
         "x": [
          0.3333333333333333,
          0
         ],
         "y": [
          0.17527386541471057,
          0
         ],
         "z": [
          0.09701871667122147,
          0
         ]
        },
        {
         "line": {
          "color": "green",
          "dash": "dashdot",
          "width": 2
         },
         "mode": "lines",
         "showlegend": false,
         "type": "scatter3d",
         "x": [
          0.150326797385621,
          0.3333333333333333
         ],
         "y": [
          0.3333333333333333,
          0.3333333333333333
         ],
         "z": [
          0,
          0.3333333333333333
         ]
        },
        {
         "line": {
          "color": "green",
          "dash": "dashdot",
          "width": 2
         },
         "mode": "lines",
         "showlegend": false,
         "type": "scatter3d",
         "x": [
          0.13725490196078388,
          0.3333333333333333
         ],
         "y": [
          0.2989045383411584,
          0.3333333333333333
         ],
         "z": [
          0.12469955923675782,
          0.3333333333333333
         ]
        },
        {
         "line": {
          "color": "green",
          "dash": "dashdot",
          "width": 2
         },
         "mode": "lines",
         "showlegend": false,
         "type": "scatter3d",
         "x": [
          0.10457516339869302,
          0.3333333333333333
         ],
         "y": [
          0.2605633802816902,
          0.3333333333333333
         ],
         "z": [
          0.2135371775736299,
          0.3333333333333333
         ]
        },
        {
         "line": {
          "color": "green",
          "dash": "dashdot",
          "width": 2
         },
         "mode": "lines",
         "showlegend": false,
         "type": "scatter3d",
         "x": [
          0.0697167755991287,
          0.3333333333333333
         ],
         "y": [
          0.222222222222222,
          0.3333333333333333
         ],
         "z": [
          0.2811821891474606,
          0.3333333333333333
         ]
        },
        {
         "line": {
          "color": "green",
          "dash": "dashdot",
          "width": 2
         },
         "mode": "lines",
         "showlegend": false,
         "type": "scatter3d",
         "x": [
          0.03050108932461833,
          0.3333333333333333
         ],
         "y": [
          0.18622848200313014,
          0.3333333333333333
         ],
         "z": [
          0.32265527736317534,
          0.3333333333333333
         ]
        },
        {
         "line": {
          "color": "green",
          "dash": "dashdot",
          "width": 2
         },
         "mode": "lines",
         "showlegend": false,
         "type": "scatter3d",
         "x": [
          0.006535947712417574,
          0.3333333333333333
         ],
         "y": [
          0.15023474178403765,
          0.3333333333333333
         ],
         "z": [
          0.33025826810644654,
          0.3333333333333333
         ]
        },
        {
         "line": {
          "color": "green",
          "dash": "dashdot",
          "width": 2
         },
         "mode": "lines",
         "showlegend": false,
         "type": "scatter3d",
         "x": [
          0,
          0.3333333333333333
         ],
         "y": [
          0.11267605633802824,
          0.3333333333333333
         ],
         "z": [
          0.33315230974420784,
          0.3333333333333333
         ]
        },
        {
         "line": {
          "color": "green",
          "dash": "dashdot",
          "width": 2
         },
         "mode": "lines",
         "showlegend": false,
         "type": "scatter3d",
         "x": [
          0.007625272331154323,
          0.3333333333333333
         ],
         "y": [
          0.07511737089201882,
          0.3333333333333333
         ],
         "z": [
          0.33321304023862414,
          0.3333333333333333
         ]
        },
        {
         "line": {
          "color": "green",
          "dash": "dashdot",
          "width": 2
         },
         "mode": "lines",
         "showlegend": false,
         "type": "scatter3d",
         "x": [
          0.016339869281045433,
          0.3333333333333333
         ],
         "y": [
          0.03755868544600941,
          0.3333333333333333
         ],
         "z": [
          0.3332731867859787,
          0.3333333333333333
         ]
        },
        {
         "line": {
          "color": "green",
          "dash": "dashdot",
          "width": 2
         },
         "mode": "lines",
         "showlegend": false,
         "type": "scatter3d",
         "x": [
          0.02396514161219976,
          0.3333333333333333
         ],
         "y": [
          0,
          0.3333333333333333
         ],
         "z": [
          0.3333333333333333,
          0.3333333333333333
         ]
        },
        {
         "line": {
          "color": "green",
          "dash": "dashdot",
          "width": 2
         },
         "mode": "lines",
         "showlegend": false,
         "type": "scatter3d",
         "x": [
          0.07516339869281048,
          0.3333333333333333
         ],
         "y": [
          0.05320813771518033,
          0.3333333333333333
         ],
         "z": [
          0.30814360893298853,
          0.3333333333333333
         ]
        },
        {
         "line": {
          "color": "green",
          "dash": "dashdot",
          "width": 2
         },
         "mode": "lines",
         "showlegend": false,
         "type": "scatter3d",
         "x": [
          0.127450980392157,
          0.3333333333333333
         ],
         "y": [
          0.08215962441314584,
          0.3333333333333333
         ],
         "z": [
          0.27786945746646396,
          0.3333333333333333
         ]
        },
        {
         "line": {
          "color": "green",
          "dash": "dashdot",
          "width": 2
         },
         "mode": "lines",
         "showlegend": false,
         "type": "scatter3d",
         "x": [
          0.17864923747276676,
          0.3333333333333333
         ],
         "y": [
          0.11502347417840389,
          0.3333333333333333
         ],
         "z": [
          0.23408685862174478,
          0.3333333333333333
         ]
        },
        {
         "line": {
          "color": "green",
          "dash": "dashdot",
          "width": 2
         },
         "mode": "lines",
         "showlegend": false,
         "type": "scatter3d",
         "x": [
          0.23093681917211328,
          0.3333333333333333
         ],
         "y": [
          0.1353677621283255,
          0.3333333333333333
         ],
         "z": [
          0.1897565174331556,
          0.3333333333333333
         ]
        },
        {
         "line": {
          "color": "green",
          "dash": "dashdot",
          "width": 2
         },
         "mode": "lines",
         "showlegend": false,
         "type": "scatter3d",
         "x": [
          0.28213507625272355,
          0.3333333333333333
         ],
         "y": [
          0.15571205007824707,
          0.3333333333333333
         ],
         "z": [
          0.14223490555240223,
          0.3333333333333333
         ]
        },
        {
         "line": {
          "color": "green",
          "dash": "dashdot",
          "width": 2
         },
         "mode": "lines",
         "showlegend": false,
         "type": "scatter3d",
         "x": [
          0.3333333333333333,
          0.3333333333333333
         ],
         "y": [
          0.17527386541471057,
          0.3333333333333333
         ],
         "z": [
          0.09701871667122147,
          0.3333333333333333
         ]
        }
       ],
       "layout": {
        "margin": {
         "b": 0,
         "l": 0,
         "r": 0,
         "t": 0
        },
        "scene": {
         "aspectmode": "manual",
         "aspectratio": {
          "x": 5,
          "y": 5,
          "z": 5
         },
         "xaxis": {
          "title": {
           "text": "Resources"
          }
         },
         "yaxis": {
          "title": {
           "text": "Ecosystems"
          }
         },
         "zaxis": {
          "title": {
           "text": "Profit"
          }
         }
        },
        "template": {
         "data": {
          "bar": [
           {
            "error_x": {
             "color": "#2a3f5f"
            },
            "error_y": {
             "color": "#2a3f5f"
            },
            "marker": {
             "line": {
              "color": "#E5ECF6",
              "width": 0.5
             },
             "pattern": {
              "fillmode": "overlay",
              "size": 10,
              "solidity": 0.2
             }
            },
            "type": "bar"
           }
          ],
          "barpolar": [
           {
            "marker": {
             "line": {
              "color": "#E5ECF6",
              "width": 0.5
             },
             "pattern": {
              "fillmode": "overlay",
              "size": 10,
              "solidity": 0.2
             }
            },
            "type": "barpolar"
           }
          ],
          "carpet": [
           {
            "aaxis": {
             "endlinecolor": "#2a3f5f",
             "gridcolor": "white",
             "linecolor": "white",
             "minorgridcolor": "white",
             "startlinecolor": "#2a3f5f"
            },
            "baxis": {
             "endlinecolor": "#2a3f5f",
             "gridcolor": "white",
             "linecolor": "white",
             "minorgridcolor": "white",
             "startlinecolor": "#2a3f5f"
            },
            "type": "carpet"
           }
          ],
          "choropleth": [
           {
            "colorbar": {
             "outlinewidth": 0,
             "ticks": ""
            },
            "type": "choropleth"
           }
          ],
          "contour": [
           {
            "colorbar": {
             "outlinewidth": 0,
             "ticks": ""
            },
            "colorscale": [
             [
              0,
              "#0d0887"
             ],
             [
              0.1111111111111111,
              "#46039f"
             ],
             [
              0.2222222222222222,
              "#7201a8"
             ],
             [
              0.3333333333333333,
              "#9c179e"
             ],
             [
              0.4444444444444444,
              "#bd3786"
             ],
             [
              0.5555555555555556,
              "#d8576b"
             ],
             [
              0.6666666666666666,
              "#ed7953"
             ],
             [
              0.7777777777777778,
              "#fb9f3a"
             ],
             [
              0.8888888888888888,
              "#fdca26"
             ],
             [
              1,
              "#f0f921"
             ]
            ],
            "type": "contour"
           }
          ],
          "contourcarpet": [
           {
            "colorbar": {
             "outlinewidth": 0,
             "ticks": ""
            },
            "type": "contourcarpet"
           }
          ],
          "heatmap": [
           {
            "colorbar": {
             "outlinewidth": 0,
             "ticks": ""
            },
            "colorscale": [
             [
              0,
              "#0d0887"
             ],
             [
              0.1111111111111111,
              "#46039f"
             ],
             [
              0.2222222222222222,
              "#7201a8"
             ],
             [
              0.3333333333333333,
              "#9c179e"
             ],
             [
              0.4444444444444444,
              "#bd3786"
             ],
             [
              0.5555555555555556,
              "#d8576b"
             ],
             [
              0.6666666666666666,
              "#ed7953"
             ],
             [
              0.7777777777777778,
              "#fb9f3a"
             ],
             [
              0.8888888888888888,
              "#fdca26"
             ],
             [
              1,
              "#f0f921"
             ]
            ],
            "type": "heatmap"
           }
          ],
          "heatmapgl": [
           {
            "colorbar": {
             "outlinewidth": 0,
             "ticks": ""
            },
            "colorscale": [
             [
              0,
              "#0d0887"
             ],
             [
              0.1111111111111111,
              "#46039f"
             ],
             [
              0.2222222222222222,
              "#7201a8"
             ],
             [
              0.3333333333333333,
              "#9c179e"
             ],
             [
              0.4444444444444444,
              "#bd3786"
             ],
             [
              0.5555555555555556,
              "#d8576b"
             ],
             [
              0.6666666666666666,
              "#ed7953"
             ],
             [
              0.7777777777777778,
              "#fb9f3a"
             ],
             [
              0.8888888888888888,
              "#fdca26"
             ],
             [
              1,
              "#f0f921"
             ]
            ],
            "type": "heatmapgl"
           }
          ],
          "histogram": [
           {
            "marker": {
             "pattern": {
              "fillmode": "overlay",
              "size": 10,
              "solidity": 0.2
             }
            },
            "type": "histogram"
           }
          ],
          "histogram2d": [
           {
            "colorbar": {
             "outlinewidth": 0,
             "ticks": ""
            },
            "colorscale": [
             [
              0,
              "#0d0887"
             ],
             [
              0.1111111111111111,
              "#46039f"
             ],
             [
              0.2222222222222222,
              "#7201a8"
             ],
             [
              0.3333333333333333,
              "#9c179e"
             ],
             [
              0.4444444444444444,
              "#bd3786"
             ],
             [
              0.5555555555555556,
              "#d8576b"
             ],
             [
              0.6666666666666666,
              "#ed7953"
             ],
             [
              0.7777777777777778,
              "#fb9f3a"
             ],
             [
              0.8888888888888888,
              "#fdca26"
             ],
             [
              1,
              "#f0f921"
             ]
            ],
            "type": "histogram2d"
           }
          ],
          "histogram2dcontour": [
           {
            "colorbar": {
             "outlinewidth": 0,
             "ticks": ""
            },
            "colorscale": [
             [
              0,
              "#0d0887"
             ],
             [
              0.1111111111111111,
              "#46039f"
             ],
             [
              0.2222222222222222,
              "#7201a8"
             ],
             [
              0.3333333333333333,
              "#9c179e"
             ],
             [
              0.4444444444444444,
              "#bd3786"
             ],
             [
              0.5555555555555556,
              "#d8576b"
             ],
             [
              0.6666666666666666,
              "#ed7953"
             ],
             [
              0.7777777777777778,
              "#fb9f3a"
             ],
             [
              0.8888888888888888,
              "#fdca26"
             ],
             [
              1,
              "#f0f921"
             ]
            ],
            "type": "histogram2dcontour"
           }
          ],
          "mesh3d": [
           {
            "colorbar": {
             "outlinewidth": 0,
             "ticks": ""
            },
            "type": "mesh3d"
           }
          ],
          "parcoords": [
           {
            "line": {
             "colorbar": {
              "outlinewidth": 0,
              "ticks": ""
             }
            },
            "type": "parcoords"
           }
          ],
          "pie": [
           {
            "automargin": true,
            "type": "pie"
           }
          ],
          "scatter": [
           {
            "fillpattern": {
             "fillmode": "overlay",
             "size": 10,
             "solidity": 0.2
            },
            "type": "scatter"
           }
          ],
          "scatter3d": [
           {
            "line": {
             "colorbar": {
              "outlinewidth": 0,
              "ticks": ""
             }
            },
            "marker": {
             "colorbar": {
              "outlinewidth": 0,
              "ticks": ""
             }
            },
            "type": "scatter3d"
           }
          ],
          "scattercarpet": [
           {
            "marker": {
             "colorbar": {
              "outlinewidth": 0,
              "ticks": ""
             }
            },
            "type": "scattercarpet"
           }
          ],
          "scattergeo": [
           {
            "marker": {
             "colorbar": {
              "outlinewidth": 0,
              "ticks": ""
             }
            },
            "type": "scattergeo"
           }
          ],
          "scattergl": [
           {
            "marker": {
             "colorbar": {
              "outlinewidth": 0,
              "ticks": ""
             }
            },
            "type": "scattergl"
           }
          ],
          "scattermapbox": [
           {
            "marker": {
             "colorbar": {
              "outlinewidth": 0,
              "ticks": ""
             }
            },
            "type": "scattermapbox"
           }
          ],
          "scatterpolar": [
           {
            "marker": {
             "colorbar": {
              "outlinewidth": 0,
              "ticks": ""
             }
            },
            "type": "scatterpolar"
           }
          ],
          "scatterpolargl": [
           {
            "marker": {
             "colorbar": {
              "outlinewidth": 0,
              "ticks": ""
             }
            },
            "type": "scatterpolargl"
           }
          ],
          "scatterternary": [
           {
            "marker": {
             "colorbar": {
              "outlinewidth": 0,
              "ticks": ""
             }
            },
            "type": "scatterternary"
           }
          ],
          "surface": [
           {
            "colorbar": {
             "outlinewidth": 0,
             "ticks": ""
            },
            "colorscale": [
             [
              0,
              "#0d0887"
             ],
             [
              0.1111111111111111,
              "#46039f"
             ],
             [
              0.2222222222222222,
              "#7201a8"
             ],
             [
              0.3333333333333333,
              "#9c179e"
             ],
             [
              0.4444444444444444,
              "#bd3786"
             ],
             [
              0.5555555555555556,
              "#d8576b"
             ],
             [
              0.6666666666666666,
              "#ed7953"
             ],
             [
              0.7777777777777778,
              "#fb9f3a"
             ],
             [
              0.8888888888888888,
              "#fdca26"
             ],
             [
              1,
              "#f0f921"
             ]
            ],
            "type": "surface"
           }
          ],
          "table": [
           {
            "cells": {
             "fill": {
              "color": "#EBF0F8"
             },
             "line": {
              "color": "white"
             }
            },
            "header": {
             "fill": {
              "color": "#C8D4E3"
             },
             "line": {
              "color": "white"
             }
            },
            "type": "table"
           }
          ]
         },
         "layout": {
          "annotationdefaults": {
           "arrowcolor": "#2a3f5f",
           "arrowhead": 0,
           "arrowwidth": 1
          },
          "autotypenumbers": "strict",
          "coloraxis": {
           "colorbar": {
            "outlinewidth": 0,
            "ticks": ""
           }
          },
          "colorscale": {
           "diverging": [
            [
             0,
             "#8e0152"
            ],
            [
             0.1,
             "#c51b7d"
            ],
            [
             0.2,
             "#de77ae"
            ],
            [
             0.3,
             "#f1b6da"
            ],
            [
             0.4,
             "#fde0ef"
            ],
            [
             0.5,
             "#f7f7f7"
            ],
            [
             0.6,
             "#e6f5d0"
            ],
            [
             0.7,
             "#b8e186"
            ],
            [
             0.8,
             "#7fbc41"
            ],
            [
             0.9,
             "#4d9221"
            ],
            [
             1,
             "#276419"
            ]
           ],
           "sequential": [
            [
             0,
             "#0d0887"
            ],
            [
             0.1111111111111111,
             "#46039f"
            ],
            [
             0.2222222222222222,
             "#7201a8"
            ],
            [
             0.3333333333333333,
             "#9c179e"
            ],
            [
             0.4444444444444444,
             "#bd3786"
            ],
            [
             0.5555555555555556,
             "#d8576b"
            ],
            [
             0.6666666666666666,
             "#ed7953"
            ],
            [
             0.7777777777777778,
             "#fb9f3a"
            ],
            [
             0.8888888888888888,
             "#fdca26"
            ],
            [
             1,
             "#f0f921"
            ]
           ],
           "sequentialminus": [
            [
             0,
             "#0d0887"
            ],
            [
             0.1111111111111111,
             "#46039f"
            ],
            [
             0.2222222222222222,
             "#7201a8"
            ],
            [
             0.3333333333333333,
             "#9c179e"
            ],
            [
             0.4444444444444444,
             "#bd3786"
            ],
            [
             0.5555555555555556,
             "#d8576b"
            ],
            [
             0.6666666666666666,
             "#ed7953"
            ],
            [
             0.7777777777777778,
             "#fb9f3a"
            ],
            [
             0.8888888888888888,
             "#fdca26"
            ],
            [
             1,
             "#f0f921"
            ]
           ]
          },
          "colorway": [
           "#636efa",
           "#EF553B",
           "#00cc96",
           "#ab63fa",
           "#FFA15A",
           "#19d3f3",
           "#FF6692",
           "#B6E880",
           "#FF97FF",
           "#FECB52"
          ],
          "font": {
           "color": "#2a3f5f"
          },
          "geo": {
           "bgcolor": "white",
           "lakecolor": "white",
           "landcolor": "#E5ECF6",
           "showlakes": true,
           "showland": true,
           "subunitcolor": "white"
          },
          "hoverlabel": {
           "align": "left"
          },
          "hovermode": "closest",
          "mapbox": {
           "style": "light"
          },
          "paper_bgcolor": "white",
          "plot_bgcolor": "#E5ECF6",
          "polar": {
           "angularaxis": {
            "gridcolor": "white",
            "linecolor": "white",
            "ticks": ""
           },
           "bgcolor": "#E5ECF6",
           "radialaxis": {
            "gridcolor": "white",
            "linecolor": "white",
            "ticks": ""
           }
          },
          "scene": {
           "xaxis": {
            "backgroundcolor": "#E5ECF6",
            "gridcolor": "white",
            "gridwidth": 2,
            "linecolor": "white",
            "showbackground": true,
            "ticks": "",
            "zerolinecolor": "white"
           },
           "yaxis": {
            "backgroundcolor": "#E5ECF6",
            "gridcolor": "white",
            "gridwidth": 2,
            "linecolor": "white",
            "showbackground": true,
            "ticks": "",
            "zerolinecolor": "white"
           },
           "zaxis": {
            "backgroundcolor": "#E5ECF6",
            "gridcolor": "white",
            "gridwidth": 2,
            "linecolor": "white",
            "showbackground": true,
            "ticks": "",
            "zerolinecolor": "white"
           }
          },
          "shapedefaults": {
           "line": {
            "color": "#2a3f5f"
           }
          },
          "ternary": {
           "aaxis": {
            "gridcolor": "white",
            "linecolor": "white",
            "ticks": ""
           },
           "baxis": {
            "gridcolor": "white",
            "linecolor": "white",
            "ticks": ""
           },
           "bgcolor": "#E5ECF6",
           "caxis": {
            "gridcolor": "white",
            "linecolor": "white",
            "ticks": ""
           }
          },
          "title": {
           "x": 0.05
          },
          "xaxis": {
           "automargin": true,
           "gridcolor": "white",
           "linecolor": "white",
           "ticks": "",
           "title": {
            "standoff": 15
           },
           "zerolinecolor": "white",
           "zerolinewidth": 2
          },
          "yaxis": {
           "automargin": true,
           "gridcolor": "white",
           "linecolor": "white",
           "ticks": "",
           "title": {
            "standoff": 15
           },
           "zerolinecolor": "white",
           "zerolinewidth": 2
          }
         }
        },
        "title": {
         "text": "3D Pareto Front"
        }
       }
      }
     },
     "metadata": {},
     "output_type": "display_data"
    },
    {
     "name": "stderr",
     "output_type": "stream",
     "text": [
      "c:\\Users\\Virgi\\OneDrive\\Bureau\\MODM_tool_project\\Tool\\Scripts\\MODM_Tool_Modules\\TOPSIS_Modules\\TOPSIS_plotting_results_function.py:56: FutureWarning:\n",
      "\n",
      "\n",
      "\n",
      "Passing `palette` without assigning `hue` is deprecated and will be removed in v0.14.0. Assign the `x` variable to `hue` and set `legend=False` for the same effect.\n",
      "\n",
      "\n"
     ]
    },
    {
     "data": {
      "image/png": "[encoded data removed]",
      "text/plain": [
       "<Figure size 640x480 with 2 Axes>"
      ]
     },
     "metadata": {},
     "output_type": "display_data"
    },
    {
     "name": "stdout",
     "output_type": "stream",
     "text": [
      "\n",
      "Ranked Alternatives:\n",
      "Point\n",
      "16    0.577688\n",
      "15    0.569866\n",
      "3     0.567998\n",
      "4     0.556656\n",
      "14    0.553098\n",
      "2     0.549507\n",
      "5     0.525997\n",
      "13    0.525575\n",
      "6     0.492050\n",
      "1     0.490211\n",
      "12    0.490000\n",
      "7     0.468021\n",
      "11    0.457228\n",
      "8     0.451152\n",
      "9     0.436457\n",
      "10    0.423583\n",
      "dtype: float64\n"
     ]
    }
   ],
   "source": [
    "tp_plot.results_visualization_topsis(\n",
    "    ranked_alternatives,\n",
    "    weighted_normalized_matrix,\n",
    "    beneficial_criteria,\n",
    "    weights,\n",
    "    normalized_weights,\n",
    "    S,\n",
    "    user_input,\n",
    "    directory,\n",
    "    decision_matrix,\n",
    "    ideal_best,\n",
    "    ideal_worst)"
   ]
  },
  {
   "cell_type": "code",
   "execution_count": 6,
   "metadata": {},
   "outputs": [
    {
     "name": "stdout",
     "output_type": "stream",
     "text": [
      "Initial weight for Profit (€/h): 5\n",
      "Initial weight for Impact on Ecosystems (species·yr/h) · 10^4: 5\n",
      "Initial weight for Impact on Resources (USD2013/h) · 10^-4: 5\n"
     ]
    },
    {
     "name": "stderr",
     "output_type": "stream",
     "text": [
      "100%|\u001b[32m██████████\u001b[0m| 1000/1000 [00:02<00:00, 492.33it/s]\n"
     ]
    },
    {
     "name": "stdout",
     "output_type": "stream",
     "text": [
      "16\n",
      "43.4\n"
     ]
    },
    {
     "data": {
      "image/png": "[encoded data removed]",
      "text/plain": [
       "<Figure size 640x480 with 17 Axes>"
      ]
     },
     "metadata": {},
     "output_type": "display_data"
    }
   ],
   "source": [
    "user_input2 = input(\n",
    "    \"Do you want to run a sensitivity analysis? (yes/no): \").strip().lower()\n",
    "if user_input2 == 'yes':\n",
    "    uncertainties, scores_df, ranks_df, reliability_percentage, initial_best_solution = sens.sensitivity_analysis(\n",
    "        tp_process.TOPSIS_main_data_processing, weights, 100000, 0, 10, decision_matrix, normalized_matrix, S, user_input, directory)"
   ]
  },
  {
   "cell_type": "markdown",
   "metadata": {},
   "source": [
    "The following code snippet saves the results"
   ]
  },
  {
   "cell_type": "code",
   "execution_count": 7,
   "metadata": {},
   "outputs": [],
   "source": [
    "if user_input == 'yes':\n",
    "    tp_save.save_run_results(\n",
    "        directory,\n",
    "        decision_matrix,\n",
    "        weighted_normalized_matrix,\n",
    "        ranked_alternatives,\n",
    "        weights,\n",
    "        beneficial_criteria,\n",
    "        non_beneficial_criteria,\n",
    "    )\n",
    "    \n",
    "if user_input2 == 'yes' and user_input == 'yes':\n",
    "    tp_save.save_sensitivity_results(\n",
    "        directory,\n",
    "        uncertainties,\n",
    "        scores_df,\n",
    "        ranks_df,\n",
    "        reliability_percentage,\n",
    "        initial_best_solution)"
   ]
  }
 ],
 "metadata": {
  "kernelspec": {
   "display_name": "virtual_env",
   "language": "python",
   "name": "python3"
  },
  "language_info": {
   "codemirror_mode": {
    "name": "ipython",
    "version": 3
   },
   "file_extension": ".py",
   "mimetype": "text/x-python",
   "name": "python",
   "nbconvert_exporter": "python",
   "pygments_lexer": "ipython3",
   "version": "3.11.6"
  }
 },
 "nbformat": 4,
 "nbformat_minor": 2
}
